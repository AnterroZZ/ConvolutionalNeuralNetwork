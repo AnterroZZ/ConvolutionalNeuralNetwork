{
 "cells": [
  {
   "cell_type": "code",
   "execution_count": 2,
   "metadata": {},
   "outputs": [],
   "source": [
    "import numpy as np\n",
    "import pandas as pd\n",
    "import matplotlib.pyplot as plt\n",
    "\n",
    "from sklearn.model_selection import train_test_split\n",
    "import tensorflow as tf\n",
    "from tensorflow.keras.preprocessing.image import ImageDataGenerator\n",
    "from tensorflow.keras.utils import to_categorical"
   ]
  },
  {
   "cell_type": "code",
   "execution_count": 3,
   "metadata": {},
   "outputs": [],
   "source": [
    "#Reading the data\n",
    "data = pd.read_csv('data/sign_mnist_train.csv')\n",
    "test_data = pd.read_csv('data/sign_mnist_test.csv')"
   ]
  },
  {
   "cell_type": "code",
   "execution_count": 4,
   "metadata": {},
   "outputs": [
    {
     "data": {
      "text/html": [
       "<div>\n",
       "<style scoped>\n",
       "    .dataframe tbody tr th:only-of-type {\n",
       "        vertical-align: middle;\n",
       "    }\n",
       "\n",
       "    .dataframe tbody tr th {\n",
       "        vertical-align: top;\n",
       "    }\n",
       "\n",
       "    .dataframe thead th {\n",
       "        text-align: right;\n",
       "    }\n",
       "</style>\n",
       "<table border=\"1\" class=\"dataframe\">\n",
       "  <thead>\n",
       "    <tr style=\"text-align: right;\">\n",
       "      <th></th>\n",
       "      <th>label</th>\n",
       "      <th>pixel1</th>\n",
       "      <th>pixel2</th>\n",
       "      <th>pixel3</th>\n",
       "      <th>pixel4</th>\n",
       "      <th>pixel5</th>\n",
       "      <th>pixel6</th>\n",
       "      <th>pixel7</th>\n",
       "      <th>pixel8</th>\n",
       "      <th>pixel9</th>\n",
       "      <th>...</th>\n",
       "      <th>pixel775</th>\n",
       "      <th>pixel776</th>\n",
       "      <th>pixel777</th>\n",
       "      <th>pixel778</th>\n",
       "      <th>pixel779</th>\n",
       "      <th>pixel780</th>\n",
       "      <th>pixel781</th>\n",
       "      <th>pixel782</th>\n",
       "      <th>pixel783</th>\n",
       "      <th>pixel784</th>\n",
       "    </tr>\n",
       "  </thead>\n",
       "  <tbody>\n",
       "    <tr>\n",
       "      <th>0</th>\n",
       "      <td>3</td>\n",
       "      <td>107</td>\n",
       "      <td>118</td>\n",
       "      <td>127</td>\n",
       "      <td>134</td>\n",
       "      <td>139</td>\n",
       "      <td>143</td>\n",
       "      <td>146</td>\n",
       "      <td>150</td>\n",
       "      <td>153</td>\n",
       "      <td>...</td>\n",
       "      <td>207</td>\n",
       "      <td>207</td>\n",
       "      <td>207</td>\n",
       "      <td>207</td>\n",
       "      <td>206</td>\n",
       "      <td>206</td>\n",
       "      <td>206</td>\n",
       "      <td>204</td>\n",
       "      <td>203</td>\n",
       "      <td>202</td>\n",
       "    </tr>\n",
       "    <tr>\n",
       "      <th>1</th>\n",
       "      <td>6</td>\n",
       "      <td>155</td>\n",
       "      <td>157</td>\n",
       "      <td>156</td>\n",
       "      <td>156</td>\n",
       "      <td>156</td>\n",
       "      <td>157</td>\n",
       "      <td>156</td>\n",
       "      <td>158</td>\n",
       "      <td>158</td>\n",
       "      <td>...</td>\n",
       "      <td>69</td>\n",
       "      <td>149</td>\n",
       "      <td>128</td>\n",
       "      <td>87</td>\n",
       "      <td>94</td>\n",
       "      <td>163</td>\n",
       "      <td>175</td>\n",
       "      <td>103</td>\n",
       "      <td>135</td>\n",
       "      <td>149</td>\n",
       "    </tr>\n",
       "    <tr>\n",
       "      <th>2</th>\n",
       "      <td>2</td>\n",
       "      <td>187</td>\n",
       "      <td>188</td>\n",
       "      <td>188</td>\n",
       "      <td>187</td>\n",
       "      <td>187</td>\n",
       "      <td>186</td>\n",
       "      <td>187</td>\n",
       "      <td>188</td>\n",
       "      <td>187</td>\n",
       "      <td>...</td>\n",
       "      <td>202</td>\n",
       "      <td>201</td>\n",
       "      <td>200</td>\n",
       "      <td>199</td>\n",
       "      <td>198</td>\n",
       "      <td>199</td>\n",
       "      <td>198</td>\n",
       "      <td>195</td>\n",
       "      <td>194</td>\n",
       "      <td>195</td>\n",
       "    </tr>\n",
       "    <tr>\n",
       "      <th>3</th>\n",
       "      <td>2</td>\n",
       "      <td>211</td>\n",
       "      <td>211</td>\n",
       "      <td>212</td>\n",
       "      <td>212</td>\n",
       "      <td>211</td>\n",
       "      <td>210</td>\n",
       "      <td>211</td>\n",
       "      <td>210</td>\n",
       "      <td>210</td>\n",
       "      <td>...</td>\n",
       "      <td>235</td>\n",
       "      <td>234</td>\n",
       "      <td>233</td>\n",
       "      <td>231</td>\n",
       "      <td>230</td>\n",
       "      <td>226</td>\n",
       "      <td>225</td>\n",
       "      <td>222</td>\n",
       "      <td>229</td>\n",
       "      <td>163</td>\n",
       "    </tr>\n",
       "    <tr>\n",
       "      <th>4</th>\n",
       "      <td>13</td>\n",
       "      <td>164</td>\n",
       "      <td>167</td>\n",
       "      <td>170</td>\n",
       "      <td>172</td>\n",
       "      <td>176</td>\n",
       "      <td>179</td>\n",
       "      <td>180</td>\n",
       "      <td>184</td>\n",
       "      <td>185</td>\n",
       "      <td>...</td>\n",
       "      <td>92</td>\n",
       "      <td>105</td>\n",
       "      <td>105</td>\n",
       "      <td>108</td>\n",
       "      <td>133</td>\n",
       "      <td>163</td>\n",
       "      <td>157</td>\n",
       "      <td>163</td>\n",
       "      <td>164</td>\n",
       "      <td>179</td>\n",
       "    </tr>\n",
       "  </tbody>\n",
       "</table>\n",
       "<p>5 rows × 785 columns</p>\n",
       "</div>"
      ],
      "text/plain": [
       "   label  pixel1  pixel2  pixel3  pixel4  pixel5  pixel6  pixel7  pixel8  \\\n",
       "0      3     107     118     127     134     139     143     146     150   \n",
       "1      6     155     157     156     156     156     157     156     158   \n",
       "2      2     187     188     188     187     187     186     187     188   \n",
       "3      2     211     211     212     212     211     210     211     210   \n",
       "4     13     164     167     170     172     176     179     180     184   \n",
       "\n",
       "   pixel9  ...  pixel775  pixel776  pixel777  pixel778  pixel779  pixel780  \\\n",
       "0     153  ...       207       207       207       207       206       206   \n",
       "1     158  ...        69       149       128        87        94       163   \n",
       "2     187  ...       202       201       200       199       198       199   \n",
       "3     210  ...       235       234       233       231       230       226   \n",
       "4     185  ...        92       105       105       108       133       163   \n",
       "\n",
       "   pixel781  pixel782  pixel783  pixel784  \n",
       "0       206       204       203       202  \n",
       "1       175       103       135       149  \n",
       "2       198       195       194       195  \n",
       "3       225       222       229       163  \n",
       "4       157       163       164       179  \n",
       "\n",
       "[5 rows x 785 columns]"
      ]
     },
     "execution_count": 4,
     "metadata": {},
     "output_type": "execute_result"
    }
   ],
   "source": [
    "data.head()"
   ]
  },
  {
   "cell_type": "code",
   "execution_count": 5,
   "metadata": {},
   "outputs": [],
   "source": [
    "#Function for reshaping entries to have 28x28 pixels\n",
    "def reshape_data(data):\n",
    "    training = []\n",
    "    for line in range(len(data)):\n",
    "        x = data.iloc[line].values\n",
    "        training.append(np.array_split(x, 28))\n",
    "    training = np.array(training).astype('float')\n",
    "    return training\n"
   ]
  },
  {
   "cell_type": "code",
   "execution_count": 6,
   "metadata": {},
   "outputs": [],
   "source": [
    "#Dividing the training and datasets to X, Y\n",
    "Y_train = data['label'].values\n",
    "data.drop(['label'], axis=1, inplace=True)\n",
    "\n",
    "X_train = reshape_data(data)\n",
    "\n",
    "Y_test = test_data['label'].values\n",
    "test_data.drop(['label'], axis=1, inplace=True)\n",
    "X_test = reshape_data(test_data)"
   ]
  },
  {
   "cell_type": "code",
   "execution_count": 7,
   "metadata": {},
   "outputs": [
    {
     "name": "stdout",
     "output_type": "stream",
     "text": [
      "Training data shape (27455, 28, 28)\n",
      "Training labels shape (27455,)\n",
      "Testing data shape (7172, 28, 28)\n",
      "Testing labels shape (7172,)\n"
     ]
    }
   ],
   "source": [
    "#Shape of the data\n",
    "print(f'Training data shape {X_train.shape}')\n",
    "print(f'Training labels shape {Y_train.shape}')\n",
    "\n",
    "print(f'Testing data shape {X_test.shape}')\n",
    "print(f'Testing labels shape {Y_test.shape}')\n"
   ]
  },
  {
   "cell_type": "code",
   "execution_count": 8,
   "metadata": {},
   "outputs": [
    {
     "name": "stdout",
     "output_type": "stream",
     "text": [
      "Training data shape (24709, 28, 28, 1)\n",
      "Validation data shape (2746, 28, 28, 1)\n",
      "Testing data shape (7172, 28, 28, 1)\n"
     ]
    }
   ],
   "source": [
    "#Expanding dimension of all entries as it will show CNN that images are in grayscale\n",
    "X_train = np.expand_dims(X_train, axis=3)\n",
    "X_test = np.expand_dims(X_test, axis=3)\n",
    "\n",
    "#Spliting traing data to TRAINING and VALIDATION data\n",
    "random_seed=251\n",
    "X_train,X_validation,Y_train,Y_validation = train_test_split(X_train, Y_train, test_size=0.1, random_state=random_seed)\n",
    "\n",
    "#Augmentation\n",
    "train_datagen = ImageDataGenerator(\n",
    "    rescale = 1.0 / 255.0,\n",
    "    width_shift_range=0.2,\n",
    "    height_shift_range=0.2,\n",
    "    zoom_range=0.2,\n",
    "    rotation_range=45,\n",
    "    shear_range=0.2,\n",
    "    horizontal_flip=True,\n",
    "    fill_mode='nearest'\n",
    ")\n",
    "\n",
    "val_datagen = ImageDataGenerator(rescale = 1.0 / 255.0)\n",
    "\n",
    "print(f'Training data shape {X_train.shape}')\n",
    "print(f'Validation data shape {X_validation.shape}')\n",
    "print(f'Testing data shape {X_test.shape}')"
   ]
  },
  {
   "cell_type": "code",
   "execution_count": 9,
   "metadata": {},
   "outputs": [
    {
     "name": "stdout",
     "output_type": "stream",
     "text": [
      "Model: \"sequential\"\n",
      "_________________________________________________________________\n",
      "Layer (type)                 Output Shape              Param #   \n",
      "=================================================================\n",
      "conv2d (Conv2D)              (None, 28, 28, 16)        160       \n",
      "_________________________________________________________________\n",
      "max_pooling2d (MaxPooling2D) (None, 14, 14, 16)        0         \n",
      "_________________________________________________________________\n",
      "conv2d_1 (Conv2D)            (None, 14, 14, 64)        9280      \n",
      "_________________________________________________________________\n",
      "max_pooling2d_1 (MaxPooling2 (None, 7, 7, 64)          0         \n",
      "_________________________________________________________________\n",
      "dropout (Dropout)            (None, 7, 7, 64)          0         \n",
      "_________________________________________________________________\n",
      "conv2d_2 (Conv2D)            (None, 5, 5, 64)          36928     \n",
      "_________________________________________________________________\n",
      "flatten (Flatten)            (None, 1600)              0         \n",
      "_________________________________________________________________\n",
      "dense (Dense)                (None, 1024)              1639424   \n",
      "_________________________________________________________________\n",
      "dropout_1 (Dropout)          (None, 1024)              0         \n",
      "_________________________________________________________________\n",
      "dense_1 (Dense)              (None, 26)                26650     \n",
      "=================================================================\n",
      "Total params: 1,712,442\n",
      "Trainable params: 1,712,442\n",
      "Non-trainable params: 0\n",
      "_________________________________________________________________\n"
     ]
    }
   ],
   "source": [
    "#Creating the CNN model\n",
    "model = tf.keras.models.Sequential([\n",
    "    tf.keras.layers.Conv2D(16, (3, 3), activation='relu', padding='Same', input_shape=(28, 28, 1)),\n",
    "    tf.keras.layers.MaxPool2D(2, 2),\n",
    "    \n",
    "   \n",
    "    \n",
    "    tf.keras.layers.Conv2D(64, (3, 3), padding='Same', activation='relu'),\n",
    "    tf.keras.layers.MaxPool2D(2, 2),\n",
    "    tf.keras.layers.Dropout(0.2),\n",
    "\n",
    "    \n",
    "    tf.keras.layers.Conv2D(64, (3, 3), activation='relu'),\n",
    "    tf.keras.layers.Flatten(),\n",
    "    tf.keras.layers.Dense(1024, activation='relu'),\n",
    "    tf.keras.layers.Dropout(0.3),\n",
    "    tf.keras.layers.Dense(26, activation='softmax')\n",
    "])\n",
    "\n",
    "model.summary()"
   ]
  },
  {
   "cell_type": "code",
   "execution_count": 10,
   "metadata": {},
   "outputs": [
    {
     "name": "stdout",
     "output_type": "stream",
     "text": [
      "Epoch 1/20\n",
      "773/772 [==============================] - 25s 32ms/step - loss: 2.7457 - acc: 0.1552 - val_loss: 1.7785 - val_acc: 0.3875\n",
      "Epoch 2/20\n",
      "773/772 [==============================] - 23s 30ms/step - loss: 1.8381 - acc: 0.3940 - val_loss: 0.9418 - val_acc: 0.7047\n",
      "Epoch 3/20\n",
      "773/772 [==============================] - 23s 30ms/step - loss: 1.3422 - acc: 0.5487 - val_loss: 0.6186 - val_acc: 0.7833\n",
      "Epoch 4/20\n",
      "773/772 [==============================] - 24s 31ms/step - loss: 1.0444 - acc: 0.6440 - val_loss: 0.3563 - val_acc: 0.8933\n",
      "Epoch 5/20\n",
      "773/772 [==============================] - 25s 32ms/step - loss: 0.8774 - acc: 0.7023 - val_loss: 0.2630 - val_acc: 0.9188\n",
      "Epoch 6/20\n",
      "773/772 [==============================] - 26s 33ms/step - loss: 0.7737 - acc: 0.7330 - val_loss: 0.2140 - val_acc: 0.9312\n",
      "Epoch 7/20\n",
      "773/772 [==============================] - 26s 33ms/step - loss: 0.6829 - acc: 0.7675 - val_loss: 0.2241 - val_acc: 0.9235\n",
      "Epoch 8/20\n",
      "773/772 [==============================] - 25s 32ms/step - loss: 0.6020 - acc: 0.7965 - val_loss: 0.1881 - val_acc: 0.9297\n",
      "Epoch 9/20\n",
      "773/772 [==============================] - 26s 33ms/step - loss: 0.5530 - acc: 0.8093 - val_loss: 0.1851 - val_acc: 0.9355\n",
      "Epoch 10/20\n",
      "773/772 [==============================] - 26s 33ms/step - loss: 0.4997 - acc: 0.8277 - val_loss: 0.1138 - val_acc: 0.9607\n",
      "Epoch 11/20\n",
      "773/772 [==============================] - 25s 32ms/step - loss: 0.4651 - acc: 0.8384 - val_loss: 0.1077 - val_acc: 0.9647\n",
      "Epoch 12/20\n",
      "773/772 [==============================] - 25s 32ms/step - loss: 0.4444 - acc: 0.8496 - val_loss: 0.1006 - val_acc: 0.9661\n",
      "Epoch 13/20\n",
      "773/772 [==============================] - 26s 34ms/step - loss: 0.4206 - acc: 0.8556 - val_loss: 0.0800 - val_acc: 0.9727\n",
      "Epoch 14/20\n",
      "773/772 [==============================] - 24s 31ms/step - loss: 0.3954 - acc: 0.8649 - val_loss: 0.1625 - val_acc: 0.9450\n",
      "Epoch 15/20\n",
      "773/772 [==============================] - 24s 31ms/step - loss: 0.3776 - acc: 0.8703 - val_loss: 0.1127 - val_acc: 0.9614\n",
      "Epoch 16/20\n",
      "773/772 [==============================] - 25s 32ms/step - loss: 0.3555 - acc: 0.8771 - val_loss: 0.0680 - val_acc: 0.9749\n",
      "Epoch 17/20\n",
      "773/772 [==============================] - 24s 31ms/step - loss: 0.3411 - acc: 0.8852 - val_loss: 0.0622 - val_acc: 0.9825\n",
      "Epoch 18/20\n",
      "773/772 [==============================] - 25s 32ms/step - loss: 0.3340 - acc: 0.8872 - val_loss: 0.0386 - val_acc: 0.9876\n",
      "Epoch 19/20\n",
      "773/772 [==============================] - 25s 32ms/step - loss: 0.3173 - acc: 0.8916 - val_loss: 0.0530 - val_acc: 0.9818\n",
      "Epoch 20/20\n",
      "773/772 [==============================] - 25s 32ms/step - loss: 0.3025 - acc: 0.8972 - val_loss: 0.0634 - val_acc: 0.9767\n"
     ]
    }
   ],
   "source": [
    "number_epochs = 20\n",
    "batch_size_train = 32\n",
    "\n",
    "model.compile(loss='sparse_categorical_crossentropy', optimizer='adam', metrics=['acc'])\n",
    "\n",
    "#Creating generators for both training and testing\n",
    "train_generator = train_datagen.flow(\n",
    "    X_train,\n",
    "    Y_train,\n",
    "    batch_size=batch_size_train\n",
    ")\n",
    "validation_generator = val_datagen.flow(\n",
    "    X_validation,\n",
    "    Y_validation,\n",
    "    batch_size=batch_size_train\n",
    ")\n",
    "\n",
    "#Callback function \n",
    "class accuracyCallback(tf.keras.callbacks.Callback):\n",
    "    def on_epoch_end(self, epochs, logs={}):\n",
    "        if logs.get('acc') > 0.90:\n",
    "            print('\\nGetting over 90%, so stopping')\n",
    "            self.model.stop_training = True\n",
    "            \n",
    "            \n",
    "callbacks = accuracyCallback()\n",
    "\n",
    "#Training the model\n",
    "history = model.fit_generator(\n",
    "    train_generator,\n",
    "    epochs=number_epochs,\n",
    "    steps_per_epoch=len(X_train)/batch_size_train,\n",
    "    validation_data=validation_generator,\n",
    "    verbose=1,\n",
    "    callbacks=[callbacks]\n",
    "    \n",
    ")"
   ]
  },
  {
   "cell_type": "code",
   "execution_count": 11,
   "metadata": {},
   "outputs": [
    {
     "data": {
      "image/png": "[encoded data removed]",
      "text/plain": [
       "<Figure size 432x288 with 1 Axes>"
      ]
     },
     "metadata": {
      "needs_background": "light"
     },
     "output_type": "display_data"
    },
    {
     "data": {
      "image/png": "[encoded data removed]",
      "text/plain": [
       "<Figure size 432x288 with 1 Axes>"
      ]
     },
     "metadata": {
      "needs_background": "light"
     },
     "output_type": "display_data"
    }
   ],
   "source": [
    "#Ploting training results to easily see the results compared to number of epochs\n",
    "acc = history.history['acc']\n",
    "loss = history.history['loss']\n",
    "val_acc = history.history['val_acc']\n",
    "val_loss = history.history['val_loss']\n",
    "\n",
    "epochs = range(len(acc))\n",
    "\n",
    "plt.plot(epochs, acc, 'r', label='Training accuracy')\n",
    "plt.plot(epochs, val_acc, 'b', label='Testing accuracy')\n",
    "plt.title('Training and Testing accuracy')\n",
    "plt.legend()\n",
    "plt.figure()\n",
    "\n",
    "plt.plot(epochs, loss, 'r', label='Training loss')\n",
    "plt.plot(epochs, val_loss, 'b', label='Testing loss')\n",
    "plt.title('Training and Testing accuracy')\n",
    "plt.legend()\n",
    "\n",
    "plt.show()\n"
   ]
  },
  {
   "cell_type": "code",
   "execution_count": 12,
   "metadata": {},
   "outputs": [
    {
     "name": "stdout",
     "output_type": "stream",
     "text": [
      "7172/7172 [==============================] - 1s 197us/sample - loss: 0.1012 - acc: 0.9617\n"
     ]
    },
    {
     "data": {
      "text/plain": [
       "[0.10119367381195202, 0.96165645]"
      ]
     },
     "execution_count": 12,
     "metadata": {},
     "output_type": "execute_result"
    }
   ],
   "source": [
    "#Evaluate the model on the test data\n",
    "model.evaluate(X_test / 255, Y_test)"
   ]
  }
 ],
 "metadata": {
  "kernelspec": {
   "display_name": "Python 3",
   "language": "python",
   "name": "python3"
  },
  "language_info": {
   "codemirror_mode": {
    "name": "ipython",
    "version": 3
   },
   "file_extension": ".py",
   "mimetype": "text/x-python",
   "name": "python",
   "nbconvert_exporter": "python",
   "pygments_lexer": "ipython3",
   "version": "3.7.0"
  }
 },
 "nbformat": 4,
 "nbformat_minor": 4
}
